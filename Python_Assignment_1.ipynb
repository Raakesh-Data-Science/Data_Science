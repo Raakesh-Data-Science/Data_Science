{
 "cells": [
  {
   "cell_type": "markdown",
   "id": "7f1148c9-fea4-4e5d-be54-6323ab942133",
   "metadata": {},
   "source": [
    "Q1. Create one variable containing following type of data:\n",
    "\n",
    "(i) string\n",
    "\n",
    "(ii) list\n",
    "\n",
    "(iii) float\n",
    "\n",
    "(iv) tuple"
   ]
  },
  {
   "cell_type": "code",
   "execution_count": 3,
   "id": "3164aa07-fa22-4ebf-8074-ab48e1c1f4c0",
   "metadata": {},
   "outputs": [],
   "source": [
    "l = ['raakesh', [7,8,9], 45.2, (2,3,4,5,6)]"
   ]
  },
  {
   "cell_type": "code",
   "execution_count": 5,
   "id": "8fcc3d80-143d-4514-8afc-9fbc01893102",
   "metadata": {},
   "outputs": [
    {
     "name": "stdout",
     "output_type": "stream",
     "text": [
      "raakesh <class 'str'>\n",
      "[7, 8, 9] <class 'list'>\n",
      "45.2 <class 'float'>\n",
      "(2, 3, 4, 5, 6) <class 'tuple'>\n"
     ]
    }
   ],
   "source": [
    "for i in l :\n",
    "    print(i, type(i))"
   ]
  },
  {
   "cell_type": "code",
   "execution_count": 6,
   "id": "396d12ff-f116-4609-9239-7768885c8ec3",
   "metadata": {},
   "outputs": [],
   "source": [
    "string = 'raakesh'\n",
    "list_l = [7,8,9]\n",
    "float_f = 45.2\n",
    "tuple_t = (2,3,4,5,6)"
   ]
  },
  {
   "cell_type": "code",
   "execution_count": null,
   "id": "d5dbfe99-7ef4-43bb-892d-485a0894a82d",
   "metadata": {},
   "outputs": [],
   "source": []
  },
  {
   "cell_type": "markdown",
   "id": "0bc2e120-8120-4cfc-8ef4-27f8ed0d534a",
   "metadata": {},
   "source": [
    "Q2. Given are some following variables containing data:\n",
    "\n",
    "(i) var1 = ‘ ‘\n",
    "\n",
    "(ii) var2 = ‘[ DS , ML , Python]’\n",
    "\n",
    "(iii) var3 = [ ‘DS’ , ’ML’ , ‘Python’ ]\n",
    "\n",
    "(iv) var4 = 1.\n",
    "\n",
    "What will be the data type of the above given variable."
   ]
  },
  {
   "cell_type": "code",
   "execution_count": 8,
   "id": "0bfafd7b-d086-4dff-8c17-c2528bcfb0d9",
   "metadata": {},
   "outputs": [
    {
     "data": {
      "text/plain": [
       "str"
      ]
     },
     "execution_count": 8,
     "metadata": {},
     "output_type": "execute_result"
    }
   ],
   "source": [
    "var1 = ''\n",
    "type(var1)"
   ]
  },
  {
   "cell_type": "code",
   "execution_count": 10,
   "id": "553983c7-1eb7-4f90-bb7d-e921600bcd9e",
   "metadata": {},
   "outputs": [
    {
     "data": {
      "text/plain": [
       "str"
      ]
     },
     "execution_count": 10,
     "metadata": {},
     "output_type": "execute_result"
    }
   ],
   "source": [
    "var2 = '[ DS , ML , Python]'\n",
    "type(var2)"
   ]
  },
  {
   "cell_type": "code",
   "execution_count": 12,
   "id": "5a3cd2e4-61fc-46c2-98ae-b646fd758475",
   "metadata": {},
   "outputs": [
    {
     "data": {
      "text/plain": [
       "list"
      ]
     },
     "execution_count": 12,
     "metadata": {},
     "output_type": "execute_result"
    }
   ],
   "source": [
    "var3 = [ 'DS' , 'ML' , 'Python' ]\n",
    "type(var3)"
   ]
  },
  {
   "cell_type": "code",
   "execution_count": 13,
   "id": "d9f37831-76b3-44f9-b01f-6f1acb70c7ee",
   "metadata": {},
   "outputs": [
    {
     "data": {
      "text/plain": [
       "float"
      ]
     },
     "execution_count": 13,
     "metadata": {},
     "output_type": "execute_result"
    }
   ],
   "source": [
    "var4 = 1.\n",
    "type(var4)"
   ]
  },
  {
   "cell_type": "code",
   "execution_count": null,
   "id": "9cf1b43e-4e7a-4208-9d2f-e2a7f08dbc3f",
   "metadata": {},
   "outputs": [],
   "source": []
  },
  {
   "cell_type": "markdown",
   "id": "f09a57d5-946b-42be-9606-b3ea01c4bf08",
   "metadata": {},
   "source": [
    "Q3. Explain the use of the following operators using an example:\n",
    "    \n",
    "(i) /\n",
    "\n",
    "(ii) %\n",
    "\n",
    "(iii) //\n",
    "\n",
    "(iv) **"
   ]
  },
  {
   "cell_type": "code",
   "execution_count": 19,
   "id": "02d035d5-6565-431d-96e7-cde5738420bc",
   "metadata": {},
   "outputs": [
    {
     "data": {
      "text/plain": [
       "5.0"
      ]
     },
     "execution_count": 19,
     "metadata": {},
     "output_type": "execute_result"
    }
   ],
   "source": [
    "# (i) This symbol '/' is used for dividing\n",
    "\n",
    "# For Example:\n",
    "\n",
    "10 / 2"
   ]
  },
  {
   "cell_type": "code",
   "execution_count": 20,
   "id": "e695d8b9-5719-48bb-9a6c-5dd1ecdd6991",
   "metadata": {},
   "outputs": [
    {
     "data": {
      "text/plain": [
       "1"
      ]
     },
     "execution_count": 20,
     "metadata": {},
     "output_type": "execute_result"
    }
   ],
   "source": [
    "# (ii) This symbol '%' is called the Modulo Operator. It returns the remainder of dividing the left hand operand \n",
    "# by right hand operand. It's used to get the remainder of a division problem.\n",
    "\n",
    "# For Example:\n",
    "\n",
    "10 % 3"
   ]
  },
  {
   "cell_type": "code",
   "execution_count": 23,
   "id": "763fcb42-58c5-4330-a90a-4c794a40194b",
   "metadata": {},
   "outputs": [
    {
     "data": {
      "text/plain": [
       "3"
      ]
     },
     "execution_count": 23,
     "metadata": {},
     "output_type": "execute_result"
    }
   ],
   "source": [
    "# (iii) '//' Floor division is a normal division operation, except it returns the largest possible integer. \n",
    "# This integer can either be less than the normal division output or equal to it.\n",
    "\n",
    "# For Example:\n",
    "\n",
    "10 // 3"
   ]
  },
  {
   "cell_type": "code",
   "execution_count": 24,
   "id": "6283abe3-1af0-449b-82d8-0e9de027edc0",
   "metadata": {},
   "outputs": [
    {
     "data": {
      "text/plain": [
       "32"
      ]
     },
     "execution_count": 24,
     "metadata": {},
     "output_type": "execute_result"
    }
   ],
   "source": [
    "# '**' Power exponent operator: Given two real number operands, one on each side of the operator, \n",
    "# it performs the exponential calculation ( 2**5 translates to 2*2*2*2*2 ).\n",
    "\n",
    "# For Example:\n",
    "\n",
    "2**5"
   ]
  },
  {
   "cell_type": "code",
   "execution_count": null,
   "id": "f2cbf13d-6a1a-4c96-8816-30585230c116",
   "metadata": {},
   "outputs": [],
   "source": []
  },
  {
   "cell_type": "markdown",
   "id": "c62497ed-8b83-49d4-9607-48c9df7582dc",
   "metadata": {},
   "source": [
    "Q4. Create a list of length 10 of your choice containing multiple types of data. Using for loop print the\n",
    "element and its data type."
   ]
  },
  {
   "cell_type": "code",
   "execution_count": 25,
   "id": "f6373570-4f37-41e1-9c79-84874e35f7b9",
   "metadata": {},
   "outputs": [],
   "source": [
    "l1 = ['raakesh', [7,8,9], 45.2, (2,3,4,5,6), 5, 'sharma', [5,6,3], True, 79.5, (5.8,8.9,2.3)]"
   ]
  },
  {
   "cell_type": "code",
   "execution_count": 31,
   "id": "97db8021-4050-4f91-a569-7ec11ba3bf23",
   "metadata": {},
   "outputs": [
    {
     "name": "stdout",
     "output_type": "stream",
     "text": [
      "raakesh <class 'str'>\n",
      "[7, 8, 9] <class 'list'>\n",
      "45.2 <class 'float'>\n",
      "(2, 3, 4, 5, 6) <class 'tuple'>\n",
      "5 <class 'int'>\n",
      "sharma <class 'str'>\n",
      "[5, 6, 3] <class 'list'>\n",
      "True <class 'bool'>\n",
      "79.5 <class 'float'>\n",
      "(5.8, 8.9, 2.3) <class 'tuple'>\n",
      "10\n"
     ]
    }
   ],
   "source": [
    "for i in l1 :\n",
    "    print(i, type(i))\n",
    "print(len(l1))"
   ]
  },
  {
   "cell_type": "code",
   "execution_count": null,
   "id": "b2c01d1d-6a4a-4534-b2ed-a7f531c08274",
   "metadata": {},
   "outputs": [],
   "source": []
  },
  {
   "cell_type": "markdown",
   "id": "a0e2c522-e219-40af-bca3-5c235cf87ff2",
   "metadata": {},
   "source": [
    "Q5. Using a while loop, verify if the number A is purely divisible by number B and if so then how many\n",
    "times it can be divisible."
   ]
  },
  {
   "cell_type": "code",
   "execution_count": 47,
   "id": "d1edf781-3484-4076-b9c6-238c81a31336",
   "metadata": {},
   "outputs": [
    {
     "name": "stdin",
     "output_type": "stream",
     "text": [
      "Enter a number A:  100\n",
      "Enter a number B:  5\n"
     ]
    },
    {
     "name": "stdout",
     "output_type": "stream",
     "text": [
      "4 is divisible by 5 2 times.\n"
     ]
    }
   ],
   "source": [
    "A = int(input(\"Enter a number A: \"))\n",
    "B = int(input(\"Enter a number B: \"))\n",
    "count = 0\n",
    "\n",
    "while A % B == 0:\n",
    "    count += 1\n",
    "    A //= B\n",
    "\n",
    "if count > 0:\n",
    "    print(f\"{A} is divisible by {B} {count} times.\")\n",
    "else:\n",
    "    print(f\"{A} is not divisible by {B}.\")"
   ]
  },
  {
   "cell_type": "code",
   "execution_count": null,
   "id": "5d1b5f88-5f30-4e80-8ce6-83b2576186ec",
   "metadata": {},
   "outputs": [],
   "source": []
  },
  {
   "cell_type": "markdown",
   "id": "cf112294-dfc7-4ac7-a782-ed215decd9ff",
   "metadata": {},
   "source": [
    "Q6. Create a list containing 25 int type data. Using for loop and if-else condition print if the element is\n",
    "divisible by 3 or not."
   ]
  },
  {
   "cell_type": "code",
   "execution_count": 4,
   "id": "31564e21-fa47-4740-bd20-b882f931ac53",
   "metadata": {},
   "outputs": [],
   "source": [
    "import random"
   ]
  },
  {
   "cell_type": "code",
   "execution_count": 16,
   "id": "386d2401-27bc-4c33-9de3-a815db1076be",
   "metadata": {},
   "outputs": [
    {
     "name": "stdout",
     "output_type": "stream",
     "text": [
      "[73, 295, 147, 85, 60, 65, 163, 96, 115, 157, 212, 141, 148, 270, 168, 99, 201, 142, 14, 105, 6, 233, 249, 271, 224]\n"
     ]
    }
   ],
   "source": [
    "r_l = []\n",
    "n = 25\n",
    "\n",
    "for i in range(n) :\n",
    "    r_l.append(random.randint(1,300))\n",
    "print(r_l)"
   ]
  },
  {
   "cell_type": "code",
   "execution_count": 18,
   "id": "926a2e3e-f932-42a8-9bac-3fe8889b9963",
   "metadata": {},
   "outputs": [
    {
     "data": {
      "text/plain": [
       "list"
      ]
     },
     "execution_count": 18,
     "metadata": {},
     "output_type": "execute_result"
    }
   ],
   "source": [
    "type(r_l)"
   ]
  },
  {
   "cell_type": "code",
   "execution_count": 30,
   "id": "43881702-f5b1-42fb-b2e0-acf141e696ac",
   "metadata": {},
   "outputs": [
    {
     "name": "stdout",
     "output_type": "stream",
     "text": [
      "73 is not divisible by 3\n",
      "295 is not divisible by 3\n",
      "147 is divisible by 3\n",
      "85 is not divisible by 3\n",
      "60 is divisible by 3\n",
      "65 is not divisible by 3\n",
      "163 is not divisible by 3\n",
      "96 is divisible by 3\n",
      "115 is not divisible by 3\n",
      "157 is not divisible by 3\n",
      "212 is not divisible by 3\n",
      "141 is divisible by 3\n",
      "148 is not divisible by 3\n",
      "270 is divisible by 3\n",
      "168 is divisible by 3\n",
      "99 is divisible by 3\n",
      "201 is divisible by 3\n",
      "142 is not divisible by 3\n",
      "14 is not divisible by 3\n",
      "105 is divisible by 3\n",
      "6 is divisible by 3\n",
      "233 is not divisible by 3\n",
      "249 is divisible by 3\n",
      "271 is not divisible by 3\n",
      "224 is not divisible by 3\n"
     ]
    }
   ],
   "source": [
    "for i in r_l :\n",
    "    if i % 3 == 0 :\n",
    "        print(f\"{i} is divisible by 3\")\n",
    "    else :\n",
    "        print(f\"{i} is not divisible by 3\")"
   ]
  },
  {
   "cell_type": "code",
   "execution_count": null,
   "id": "545a3f16-33d4-44a9-844d-4d7bf54d8d32",
   "metadata": {},
   "outputs": [],
   "source": []
  },
  {
   "cell_type": "markdown",
   "id": "ee0cc8fe-928d-42b4-9c28-1d5b5aa7df30",
   "metadata": {},
   "source": [
    "Q7. What do you understand about mutable and immutable data types? Give examples for both showing\n",
    "this property."
   ]
  },
  {
   "cell_type": "code",
   "execution_count": 34,
   "id": "4f73fbb3-a0f0-4cd6-bf3a-9eb09949c3c2",
   "metadata": {},
   "outputs": [],
   "source": [
    "# Mutable and immutable are terms used to describe whether a data type can be modified after it is created. \n",
    "# Immutable data types are those whose values cannot be changed once they are created, while mutable data types allow \n",
    "# modifications to their values."
   ]
  },
  {
   "cell_type": "code",
   "execution_count": 32,
   "id": "0a9ac03f-3bd4-4498-8fd3-af60f2788b4a",
   "metadata": {},
   "outputs": [
    {
     "name": "stdout",
     "output_type": "stream",
     "text": [
      "[1, 2, 3]\n",
      "[4, 2, 3]\n",
      "[4, 2, 3, 5]\n"
     ]
    }
   ],
   "source": [
    "# List (list): Lists are mutable in Python, allowing you to modify individual elements or change the entire list. \n",
    "# Here's an example:\n",
    "\n",
    "my_list = [1, 2, 3]\n",
    "print(my_list)  # Output: [1, 2, 3]\n",
    "\n",
    "my_list[0] = 4  # Modifying the first element\n",
    "print(my_list)  # Output: [4, 2, 3]\n",
    "\n",
    "my_list.append(5)  # Adding a new element\n",
    "print(my_list)  # Output: [4, 2, 3, 5]"
   ]
  },
  {
   "cell_type": "code",
   "execution_count": 33,
   "id": "648f0089-bcba-49e0-9149-8027d498353c",
   "metadata": {},
   "outputs": [
    {
     "name": "stdout",
     "output_type": "stream",
     "text": [
      "Hello\n",
      "Hello World\n"
     ]
    }
   ],
   "source": [
    "# String (str): Strings in Python are immutable. Once a string is created, its characters cannot be modified individually. \n",
    "# However, a new string can be created by concatenation or slicing. \n",
    "# Here's an example:\n",
    "\n",
    "message = \"Hello\"\n",
    "print(message)  # Output: Hello\n",
    "\n",
    "message += \" World\"  # Concatenating a new string\n",
    "print(message)  # Output: Hello World"
   ]
  },
  {
   "cell_type": "code",
   "execution_count": null,
   "id": "7cb513e7-6ea8-4c2e-84a9-eff44a8345bd",
   "metadata": {},
   "outputs": [],
   "source": []
  }
 ],
 "metadata": {
  "kernelspec": {
   "display_name": "Python 3 (ipykernel)",
   "language": "python",
   "name": "python3"
  },
  "language_info": {
   "codemirror_mode": {
    "name": "ipython",
    "version": 3
   },
   "file_extension": ".py",
   "mimetype": "text/x-python",
   "name": "python",
   "nbconvert_exporter": "python",
   "pygments_lexer": "ipython3",
   "version": "3.10.8"
  }
 },
 "nbformat": 4,
 "nbformat_minor": 5
}
